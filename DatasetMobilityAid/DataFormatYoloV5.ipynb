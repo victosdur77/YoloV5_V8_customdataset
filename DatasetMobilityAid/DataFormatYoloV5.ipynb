{
 "cells": [
  {
   "cell_type": "code",
   "execution_count": 1,
   "metadata": {},
   "outputs": [],
   "source": [
    "import os\n",
    "import yaml\n",
    "from PIL import Image, ImageDraw\n",
    "from tqdm import tqdm\n",
    "import shutil"
   ]
  },
  {
   "cell_type": "markdown",
   "metadata": {},
   "source": [
    "# We define the necessary functions to be used"
   ]
  },
  {
   "cell_type": "code",
   "execution_count": 2,
   "metadata": {},
   "outputs": [],
   "source": [
    "def convert_yml_to_txt_yolov5(input_path, output_path):\n",
    "    input_yaml = input_path\n",
    "    output_txt = output_path\n",
    "\n",
    "    with open(input_yaml, 'r') as file:\n",
    "        data = yaml.safe_load(file)\n",
    "\n",
    "    if 'object' in data['annotation']:\n",
    "        yolo_labels = []\n",
    "\n",
    "        for obj in data['annotation']['object']:\n",
    "            label = 0 if obj['name'] == \"person\" else 1 if obj['name'] == \"wheelchair\" else 2 if obj['name'] == \"push_wheelchair\" else 3 if obj['name'] == \"crutches\" else 4 if obj['name'] == \"walking_frame\" else -1\n",
    "            xmin = float(obj['bndbox']['xmin'])\n",
    "            ymin = float(obj['bndbox']['ymin'])\n",
    "            xmax = float(obj['bndbox']['xmax'])\n",
    "            ymax = float(obj['bndbox']['ymax'])\n",
    "\n",
    "            width = float(data['annotation']['size']['width'])\n",
    "            height = float(data['annotation']['size']['height'])\n",
    "\n",
    "            x_center = (xmin + xmax) / (2 * width)\n",
    "            y_center = (ymin + ymax) / (2 * height)\n",
    "            w = (xmax - xmin) / width\n",
    "            h = (ymax - ymin) / height\n",
    "\n",
    "            yolo_labels.append(f\"{label} {x_center} {y_center} {w} {h}\")\n",
    "\n",
    "        with open(output_txt, 'w') as file:\n",
    "            for yolo_label in yolo_labels:\n",
    "                file.write(yolo_label + '\\n')\n",
    "\n",
    "    else:\n",
    "        open(output_txt, 'w').close()\n",
    "\n",
    "def contarLineas(file):\n",
    "    with open(file,'r') as f:\n",
    "        lineas = f.readlines()\n",
    "        nLineas = len(lineas)\n",
    "\n",
    "    return nLineas\n",
    "\n",
    "def concatenarTestLabels(concatFiles,outputFile):\n",
    "    with open(outputFile, 'w') as output:\n",
    "        # Itera sobre la lista de archivos a concatenar\n",
    "        for file in concatFiles:\n",
    "            # Abre cada archivo en modo lectura\n",
    "            with open(file, 'r') as f:\n",
    "                # Lee el contenido del archivo y escribe en el archivo de salida\n",
    "                content = f.read()\n",
    "                output.write(content)"
   ]
  },
  {
   "cell_type": "markdown",
   "metadata": {},
   "source": [
    "# View images that will form the test and training set, and concatenate list of test files."
   ]
  },
  {
   "cell_type": "code",
   "execution_count": 3,
   "metadata": {},
   "outputs": [
    {
     "name": "stdout",
     "output_type": "stream",
     "text": [
      "Total number of images:  17079\n",
      "Total number of labels:  17079\n",
      "Number of train images:  10961\n",
      "Number of test images:  6118\n"
     ]
    }
   ],
   "source": [
    "nImages = len(os.listdir(\"Images_RGB\"))\n",
    "print(\"Total number of images: \", nImages)\n",
    "nLabels = len(os.listdir(\"Annotations_RGB\")) + len(os.listdir(\"Annotations_RGB_TestSet2\"))\n",
    "print(\"Total number of labels: \", nLabels)\n",
    "\n",
    "# Lista de nombres de archivos que quieres concatenar\n",
    "files_to_concatenate = ['ImageSets/TestSet1.txt', 'ImageSets/TestSet2_seq1.txt', 'ImageSets/TestSet2_seq2.txt','ImageSets/TestSet2_seq3.txt','ImageSets/TestSet2_seq4.txt']\n",
    "output_file = 'ImageSets/TestSet_RGB.txt'\n",
    "concatenarTestLabels(files_to_concatenate,output_file)\n",
    "nTest = contarLineas(\"ImageSets/TestSet_RGB.txt\")\n",
    "nTrain = contarLineas(\"ImageSets/TrainSet_RGB.txt\")\n",
    "\n",
    "\n",
    "print(\"Number of train images: \", nTrain)\n",
    "print(\"Number of test images: \", nTest)"
   ]
  },
  {
   "cell_type": "markdown",
   "metadata": {},
   "source": [
    "# Creating a folder with all the txt files of the labels"
   ]
  },
  {
   "cell_type": "code",
   "execution_count": 4,
   "metadata": {},
   "outputs": [
    {
     "name": "stdout",
     "output_type": "stream",
     "text": [
      "17079\n"
     ]
    }
   ],
   "source": [
    "labels=[]\n",
    "for file in os.listdir(\"Annotations_RGB\"):\n",
    "    labels.append(\"Annotations_RGB/\" + file)\n",
    "for file in os.listdir(\"Annotations_RGB_TestSet2\"):\n",
    "    labels.append(\"Annotations_RGB_TestSet2/\" + file)\n",
    "print(len(labels))"
   ]
  },
  {
   "cell_type": "code",
   "execution_count": 5,
   "metadata": {},
   "outputs": [
    {
     "name": "stderr",
     "output_type": "stream",
     "text": [
      "100%|████████████████████████████████████████████████████████████████████████████| 17079/17079 [00:37<00:00, 451.51it/s]"
     ]
    },
    {
     "name": "stdout",
     "output_type": "stream",
     "text": [
      "17079\n"
     ]
    },
    {
     "name": "stderr",
     "output_type": "stream",
     "text": [
      "\n"
     ]
    }
   ],
   "source": [
    "os.makedirs(\"Annotations_RGB_txt\")\n",
    "for file in tqdm(labels):\n",
    "   input = file\n",
    "   output = \"Annotations_RGB_txt/\" + file[-29:-4] + \".txt\"\n",
    "   convert_yml_to_txt_yolov5(input,output)\n",
    "\n",
    "print(len(os.listdir(\"Annotations_RGB_txt\")))"
   ]
  },
  {
   "cell_type": "markdown",
   "metadata": {},
   "source": [
    "# We make a split in Train/Test in a folder called dataYOLOv5"
   ]
  },
  {
   "cell_type": "code",
   "execution_count": 6,
   "metadata": {},
   "outputs": [],
   "source": [
    "os.makedirs(\"dataYOLOv5/train/images\")\n",
    "os.makedirs(\"dataYOLOv5/train/labels\")\n",
    "os.makedirs(\"dataYOLOv5/test/images\")\n",
    "os.makedirs(\"dataYOLOv5/test/labels\")\n"
   ]
  },
  {
   "cell_type": "markdown",
   "metadata": {},
   "source": [
    "1) We take all the names of the files that are going to go to the test folder"
   ]
  },
  {
   "cell_type": "code",
   "execution_count": 7,
   "metadata": {},
   "outputs": [],
   "source": [
    "filesTest=[]\n",
    "with open(\"ImageSets/TestSet_RGB.txt\", 'r') as file:\n",
    "    lines = [line.strip() for line in file]\n",
    "    for fileName in lines:\n",
    "        filesTest.append(fileName)\n"
   ]
  },
  {
   "cell_type": "markdown",
   "metadata": {},
   "source": [
    "2. We copy the labels in their corresponding folders"
   ]
  },
  {
   "cell_type": "code",
   "execution_count": 8,
   "metadata": {},
   "outputs": [
    {
     "name": "stderr",
     "output_type": "stream",
     "text": [
      "100%|███████████████████████████████████████████████████████████████████████████| 17079/17079 [00:11<00:00, 1430.46it/s]\n"
     ]
    }
   ],
   "source": [
    "x=[]\n",
    "for file in tqdm(os.listdir(\"Annotations_RGB_txt\")):\n",
    "    path = \"Annotations_RGB_txt/\" + file\n",
    "    if any(x in path for x in filesTest):\n",
    "        path_a_copiar = \"dataYOLOv5/test/labels/\" + file\n",
    "        shutil.copy(path,path_a_copiar)\n",
    "        os.remove(path)\n",
    "        x.append(\"Test\")\n",
    "    else:\n",
    "        path_a_copiar = \"dataYOLOv5/train/labels/\" + file\n",
    "        shutil.copy(path,path_a_copiar)\n",
    "        os.remove(path)\n",
    "        x.append(\"Train\")"
   ]
  },
  {
   "cell_type": "markdown",
   "metadata": {},
   "source": [
    "3. We copy the images in their corresponding folders"
   ]
  },
  {
   "cell_type": "code",
   "execution_count": 9,
   "metadata": {},
   "outputs": [
    {
     "name": "stderr",
     "output_type": "stream",
     "text": [
      "100%|████████████████████████████████████████████████████████████████████████████| 17079/17079 [00:18<00:00, 913.11it/s]\n"
     ]
    }
   ],
   "source": [
    "y=[]\n",
    "for file in tqdm(os.listdir(\"Images_RGB\")):\n",
    "    path = \"Images_RGB/\" + file\n",
    "    if any(x in path for x in filesTest):\n",
    "        path_a_copiar = \"dataYOLOv5/test/images/\" + file\n",
    "        shutil.copy(path,path_a_copiar)\n",
    "        os.remove(path)\n",
    "        y.append(\"Test\")\n",
    "    else:\n",
    "        path_a_copiar = \"dataYOLOv5/train/images/\" + file\n",
    "        shutil.copy(path,path_a_copiar)\n",
    "        os.remove(path)\n",
    "        y.append(\"Train\")"
   ]
  },
  {
   "cell_type": "code",
   "execution_count": 10,
   "metadata": {},
   "outputs": [
    {
     "name": "stdout",
     "output_type": "stream",
     "text": [
      "10961\n",
      "10961\n",
      "6118\n",
      "6118\n"
     ]
    }
   ],
   "source": [
    "print(len(os.listdir(\"dataYOLOv5/train/images/\")))\n",
    "print(len(os.listdir(\"dataYOLOv5/train/labels/\")))\n",
    "print(len(os.listdir(\"dataYOLOv5/test/images/\")))\n",
    "print(len(os.listdir(\"dataYOLOv5/test/labels/\")))"
   ]
  },
  {
   "cell_type": "markdown",
   "metadata": {},
   "source": [
    "# Create the .yaml file specific to this dataset."
   ]
  },
  {
   "cell_type": "code",
   "execution_count": 11,
   "metadata": {},
   "outputs": [],
   "source": [
    "#customize iPython writefile so we can write variables\n",
    "from IPython.core.magic import register_line_cell_magic\n",
    "\n",
    "@register_line_cell_magic\n",
    "def writetemplate(line, cell):\n",
    "    with open(line, 'w') as f:\n",
    "        f.write(cell.format(**globals()))"
   ]
  },
  {
   "cell_type": "code",
   "execution_count": 12,
   "metadata": {},
   "outputs": [],
   "source": [
    "%%writetemplate dataYOLOv5/data.yaml\n",
    "names:\n",
    "- pedestrian\n",
    "- wheelchair\n",
    "- push_wheelchair\n",
    "- crutches\n",
    "- walking-frame\n",
    "nc: 5\n",
    "test: ../DatasetMobilityAid/dataYOLOv5/test/images\n",
    "train: ../DatasetMobilityAid/dataYOLOv5/train/images\n",
    "val: ../DatasetMobilityAid/dataYOLOv5/test/images"
   ]
  },
  {
   "cell_type": "markdown",
   "metadata": {},
   "source": [
    "# READY!"
   ]
  }
 ],
 "metadata": {
  "kernelspec": {
   "display_name": "Python 3 (ipykernel)",
   "language": "python",
   "name": "python3"
  },
  "language_info": {
   "codemirror_mode": {
    "name": "ipython",
    "version": 3
   },
   "file_extension": ".py",
   "mimetype": "text/x-python",
   "name": "python",
   "nbconvert_exporter": "python",
   "pygments_lexer": "ipython3",
   "version": "3.9.19"
  }
 },
 "nbformat": 4,
 "nbformat_minor": 4
}
